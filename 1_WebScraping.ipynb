{
 "cells": [
  {
   "cell_type": "markdown",
   "id": "198f627e",
   "metadata": {},
   "source": [
    "# Setup"
   ]
  },
  {
   "cell_type": "code",
   "execution_count": 1,
   "id": "58427106",
   "metadata": {},
   "outputs": [],
   "source": [
    "# data processing\n",
    "import pandas as pd\n",
    "\n",
    "# regular expressions\n",
    "import re\n",
    "\n",
    "# operating system\n",
    "import os\n",
    "\n",
    "# web scraping\n",
    "import urllib\n",
    "# fetch the URL\n",
    "import urllib.request\n",
    "from bs4 import BeautifulSoup\n",
    "\n",
    "# accessing APIs and URLs\n",
    "import requests\n",
    "\n",
    "#import the class fetch from Object Oriented Programming\n",
    "import data_collection_oop\n",
    "\n",
    "#read/write Excel files\n",
    "import openpyxl"
   ]
  },
  {
   "cell_type": "markdown",
   "id": "3880b2ec",
   "metadata": {},
   "source": [
    "# Data collection"
   ]
  },
  {
   "cell_type": "markdown",
   "id": "0b0b34ac",
   "metadata": {},
   "source": [
    "# Extract links from web"
   ]
  },
  {
   "cell_type": "code",
   "execution_count": 2,
   "id": "6c32867e",
   "metadata": {},
   "outputs": [],
   "source": [
    "#define URL for scraping\n",
    "theurl = \"https://www.americanrhetoric.com/barackobamaspeeches.htm\"\n",
    "thepage = urllib.request.urlopen(theurl)\n",
    "\n",
    "#Cooking the Soup\n",
    "soup = BeautifulSoup(thepage,\"html.parser\")\n",
    "\n",
    "web_list=[]\n",
    "#Scraping \"Link\" (href)\n",
    "for a_href in soup.find_all(\"a\", href=True):\n",
    "    #print(a_href[\"href\"])\n",
    "    web_list.append(a_href[\"href\"])"
   ]
  },
  {
   "cell_type": "code",
   "execution_count": 3,
   "id": "4a7645aa",
   "metadata": {},
   "outputs": [],
   "source": [
    "# extract all links from website\n",
    "speech=[]\n",
    "for i in web_list:\n",
    "    if i.startswith(\"speeches\"):\n",
    "        speech.append(i)\n",
    "        \n",
    "# only retain links that contain speech content    \n",
    "speech_web=[]\n",
    "for i in speech:\n",
    "    if i.endswith('htm'):\n",
    "        speech_web.append(i)"
   ]
  },
  {
   "cell_type": "code",
   "execution_count": 4,
   "id": "95a9918b",
   "metadata": {
    "scrolled": true
   },
   "outputs": [
    {
     "data": {
      "text/plain": [
       "428"
      ]
     },
     "execution_count": 4,
     "metadata": {},
     "output_type": "execute_result"
    }
   ],
   "source": [
    "#only retain links starting from 2008\n",
    "start = speech_web.index('speeches/barackobama/barackobamainauguraladdress.htm')\n",
    "speech_president = speech_web[start:]\n",
    "\n",
    "# remove replicate\n",
    "new = []\n",
    "for i in speech_president:\n",
    "    if i not in new:\n",
    "        new.append(i)\n",
    "\n",
    "# concatenate basic url and path\n",
    "speech_url = []\n",
    "for val in range(len(new)):\n",
    "    speech_url.append(\"https://www.americanrhetoric.com/\" + str(new[val])) \n",
    "    \n",
    "# print number of links    \n",
    "len(speech_url)"
   ]
  },
  {
   "cell_type": "markdown",
   "id": "933d7a1c",
   "metadata": {},
   "source": [
    "# Fetch data from web"
   ]
  },
  {
   "cell_type": "code",
   "execution_count": 5,
   "id": "69cabea7",
   "metadata": {},
   "outputs": [
    {
     "data": {
      "text/plain": [
       "428"
      ]
     },
     "execution_count": 5,
     "metadata": {},
     "output_type": "execute_result"
    }
   ],
   "source": [
    "# extract the speech content from the links\n",
    "speeches = [data_collection_oop.fetch.extract_text(url) for url in speech_url]\n",
    "\n",
    "#print number of speeches \n",
    "len(speeches)"
   ]
  },
  {
   "cell_type": "code",
   "execution_count": 6,
   "id": "91ecb98a",
   "metadata": {},
   "outputs": [],
   "source": [
    "# extracted the title and content of each speech\n",
    "speech_content = []\n",
    "speech_title = []\n",
    "\n",
    "# save them into separate lists\n",
    "for i in range(len(speeches)):\n",
    "    speech_content.append(speeches[i][1])\n",
    "    speech_title.append(speeches[i][0])\n",
    "    \n",
    "speech_title = [data_collection_oop.fetch.title(x) for x in speech_title]"
   ]
  },
  {
   "cell_type": "code",
   "execution_count": 7,
   "id": "deb2b287",
   "metadata": {},
   "outputs": [],
   "source": [
    "## delete something like cd, pdf ... in the speech content\n",
    "speech_content = [data_collection_oop.fetch.delet(speech) for speech in speech_content]"
   ]
  },
  {
   "cell_type": "markdown",
   "id": "91d80c2a",
   "metadata": {},
   "source": [
    "# List Date ( 2009.01.20 – 2017.01.20 )"
   ]
  },
  {
   "cell_type": "code",
   "execution_count": 9,
   "id": "f4b5844a",
   "metadata": {},
   "outputs": [],
   "source": [
    "year = [\"2009\",\"2010\",\"2011\",\"2012\",\"2013\",\"2014\",\"2015\",\"2016\",\"2017\"]\n",
    "\n",
    "# find the date corresponding to Obama's speeches using BeautifulSoup\n",
    "date_list = []\n",
    "for i in range(len(year)):\n",
    "    date_list.extend(soup.find_all(string=re.compile(year[i])))"
   ]
  },
  {
   "cell_type": "code",
   "execution_count": 11,
   "id": "1946ea5b",
   "metadata": {},
   "outputs": [
    {
     "data": {
      "text/plain": [
       "435"
      ]
     },
     "execution_count": 11,
     "metadata": {},
     "output_type": "execute_result"
    }
   ],
   "source": [
    "# delete non-relevant data from the date list\n",
    "no = ['Press Conference on 2010 Budget Sent to Congress','Announcement of 2012 Presidential Candidacy',\n",
    "     'Honoring Golden State Warriors 2015 NBA Champs','Press Conference Following 2016 NATO Summit']\n",
    "for i in range(len(no)):\n",
    "    date_list.remove(no[i])\n",
    "len(date_list)"
   ]
  },
  {
   "cell_type": "code",
   "execution_count": 14,
   "id": "c7ed5237",
   "metadata": {},
   "outputs": [],
   "source": [
    "# Convert the number into an string\n",
    "date = date_list[date_list.index(\"20 Jan 2009\"):]\n",
    "date = [str(x) for x in date]"
   ]
  },
  {
   "cell_type": "markdown",
   "id": "0aaf3872",
   "metadata": {},
   "source": [
    "#  Create a Dataframe"
   ]
  },
  {
   "cell_type": "code",
   "execution_count": 16,
   "id": "c51d863b",
   "metadata": {},
   "outputs": [
    {
     "data": {
      "text/html": [
       "<div>\n",
       "<style scoped>\n",
       "    .dataframe tbody tr th:only-of-type {\n",
       "        vertical-align: middle;\n",
       "    }\n",
       "\n",
       "    .dataframe tbody tr th {\n",
       "        vertical-align: top;\n",
       "    }\n",
       "\n",
       "    .dataframe thead th {\n",
       "        text-align: right;\n",
       "    }\n",
       "</style>\n",
       "<table border=\"1\" class=\"dataframe\">\n",
       "  <thead>\n",
       "    <tr style=\"text-align: right;\">\n",
       "      <th></th>\n",
       "      <th>date</th>\n",
       "      <th>title</th>\n",
       "      <th>content</th>\n",
       "    </tr>\n",
       "  </thead>\n",
       "  <tbody>\n",
       "    <tr>\n",
       "      <th>0</th>\n",
       "      <td>20 Jan 2009</td>\n",
       "      <td>First Presidential Inaugural Addre</td>\n",
       "      <td>[Chief Justice John G. \\r\\n\\t\\tRoberts adminis...</td>\n",
       "    </tr>\n",
       "    <tr>\n",
       "      <th>1</th>\n",
       "      <td>24 Jan 2009</td>\n",
       "      <td>&gt;American Rhetoric: Barack Obama: First Presid...</td>\n",
       "      <td>: First Presidential Weekly Address \\r\\n(01-24...</td>\n",
       "    </tr>\n",
       "    <tr>\n",
       "      <th>2</th>\n",
       "      <td>26 Jan 2009</td>\n",
       "      <td>Al-Arabiya Television Intervi</td>\n",
       "      <td>- Al-Arabiya Television InterviewBarackObamaAl...</td>\n",
       "    </tr>\n",
       "    <tr>\n",
       "      <th>3</th>\n",
       "      <td>04 Feb 2009</td>\n",
       "      <td>Remarks on Executive Compensati</td>\n",
       "      <td>- Remarks on Executive CompensationBarackObama...</td>\n",
       "    </tr>\n",
       "    <tr>\n",
       "      <th>4</th>\n",
       "      <td>09 Feb 2009</td>\n",
       "      <td>First Presidential Prime Time Press \\r\\nConferen</td>\n",
       "      <td>Good \\r\\n\\t\\tevening, everybody. Please be sea...</td>\n",
       "    </tr>\n",
       "  </tbody>\n",
       "</table>\n",
       "</div>"
      ],
      "text/plain": [
       "          date                                              title  \\\n",
       "0  20 Jan 2009                 First Presidential Inaugural Addre   \n",
       "1  24 Jan 2009  >American Rhetoric: Barack Obama: First Presid...   \n",
       "2  26 Jan 2009                      Al-Arabiya Television Intervi   \n",
       "3  04 Feb 2009                    Remarks on Executive Compensati   \n",
       "4  09 Feb 2009   First Presidential Prime Time Press \\r\\nConferen   \n",
       "\n",
       "                                             content  \n",
       "0  [Chief Justice John G. \\r\\n\\t\\tRoberts adminis...  \n",
       "1  : First Presidential Weekly Address \\r\\n(01-24...  \n",
       "2  - Al-Arabiya Television InterviewBarackObamaAl...  \n",
       "3  - Remarks on Executive CompensationBarackObama...  \n",
       "4  Good \\r\\n\\t\\tevening, everybody. Please be sea...  "
      ]
     },
     "execution_count": 16,
     "metadata": {},
     "output_type": "execute_result"
    }
   ],
   "source": [
    "df_speech = pd.DataFrame({'date': date,'title':speech_title,'content':speech_content}\n",
    "                         )\n",
    "df_speech.head()"
   ]
  },
  {
   "cell_type": "code",
   "execution_count": 19,
   "id": "7f77474c",
   "metadata": {},
   "outputs": [],
   "source": [
    "# write data frame to excel file\n",
    "os.makedirs('output', exist_ok = True)\n",
    "df_speech.to_excel(\"output/obama_speeches_dataframe.xlsx\")"
   ]
  }
 ],
 "metadata": {
  "kernelspec": {
   "display_name": "Python 3 (ipykernel)",
   "language": "python",
   "name": "python3"
  },
  "language_info": {
   "codemirror_mode": {
    "name": "ipython",
    "version": 3
   },
   "file_extension": ".py",
   "mimetype": "text/x-python",
   "name": "python",
   "nbconvert_exporter": "python",
   "pygments_lexer": "ipython3",
   "version": "3.9.10"
  }
 },
 "nbformat": 4,
 "nbformat_minor": 5
}
