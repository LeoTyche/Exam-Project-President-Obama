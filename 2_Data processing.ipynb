{
 "cells": [
  {
   "cell_type": "markdown",
   "id": "48d753f3",
   "metadata": {},
   "source": [
    "# Set up"
   ]
  },
  {
   "cell_type": "code",
   "execution_count": 1,
   "id": "2e649067",
   "metadata": {},
   "outputs": [],
   "source": [
    "# data processing\n",
    "import pandas as pd\n",
    "\n",
    "#import the class clean from Object Oriented Programming\n",
    "import data_processing_oop\n",
    "\n",
    "# lemmatisation\n",
    "from nltk import WordNetLemmatizer\n",
    "\n",
    "# stopwords\n",
    "from nltk.corpus import stopwords\n",
    "\n",
    "#read/write Excel files\n",
    "import openpyxl"
   ]
  },
  {
   "cell_type": "markdown",
   "id": "cc64e097",
   "metadata": {},
   "source": [
    "# Data processing"
   ]
  },
  {
   "cell_type": "code",
   "execution_count": 2,
   "id": "a367df3d",
   "metadata": {},
   "outputs": [
    {
     "data": {
      "text/html": [
       "<div>\n",
       "<style scoped>\n",
       "    .dataframe tbody tr th:only-of-type {\n",
       "        vertical-align: middle;\n",
       "    }\n",
       "\n",
       "    .dataframe tbody tr th {\n",
       "        vertical-align: top;\n",
       "    }\n",
       "\n",
       "    .dataframe thead th {\n",
       "        text-align: right;\n",
       "    }\n",
       "</style>\n",
       "<table border=\"1\" class=\"dataframe\">\n",
       "  <thead>\n",
       "    <tr style=\"text-align: right;\">\n",
       "      <th></th>\n",
       "      <th>date</th>\n",
       "      <th>title</th>\n",
       "      <th>content</th>\n",
       "    </tr>\n",
       "  </thead>\n",
       "  <tbody>\n",
       "    <tr>\n",
       "      <th>0</th>\n",
       "      <td>20 Jan 2009</td>\n",
       "      <td>First Presidential Inaugural Addre</td>\n",
       "      <td>[Chief Justice John G. \\r\\n\\t\\tRoberts adminis...</td>\n",
       "    </tr>\n",
       "    <tr>\n",
       "      <th>1</th>\n",
       "      <td>24 Jan 2009</td>\n",
       "      <td>&gt;American Rhetoric: Barack Obama: First Presid...</td>\n",
       "      <td>: First Presidential Weekly Address \\r\\n(01-24...</td>\n",
       "    </tr>\n",
       "    <tr>\n",
       "      <th>2</th>\n",
       "      <td>26 Jan 2009</td>\n",
       "      <td>Al-Arabiya Television Intervi</td>\n",
       "      <td>- Al-Arabiya Television InterviewBarackObamaAl...</td>\n",
       "    </tr>\n",
       "    <tr>\n",
       "      <th>3</th>\n",
       "      <td>04 Feb 2009</td>\n",
       "      <td>Remarks on Executive Compensati</td>\n",
       "      <td>- Remarks on Executive CompensationBarackObama...</td>\n",
       "    </tr>\n",
       "    <tr>\n",
       "      <th>4</th>\n",
       "      <td>09 Feb 2009</td>\n",
       "      <td>First Presidential Prime Time Press \\r\\nConferen</td>\n",
       "      <td>Good \\r\\n\\t\\tevening, everybody. Please be sea...</td>\n",
       "    </tr>\n",
       "  </tbody>\n",
       "</table>\n",
       "</div>"
      ],
      "text/plain": [
       "          date                                              title  \\\n",
       "0  20 Jan 2009                 First Presidential Inaugural Addre   \n",
       "1  24 Jan 2009  >American Rhetoric: Barack Obama: First Presid...   \n",
       "2  26 Jan 2009                      Al-Arabiya Television Intervi   \n",
       "3  04 Feb 2009                    Remarks on Executive Compensati   \n",
       "4  09 Feb 2009   First Presidential Prime Time Press \\r\\nConferen   \n",
       "\n",
       "                                             content  \n",
       "0  [Chief Justice John G. \\r\\n\\t\\tRoberts adminis...  \n",
       "1  : First Presidential Weekly Address \\r\\n(01-24...  \n",
       "2  - Al-Arabiya Television InterviewBarackObamaAl...  \n",
       "3  - Remarks on Executive CompensationBarackObama...  \n",
       "4  Good \\r\\n\\t\\tevening, everybody. Please be sea...  "
      ]
     },
     "execution_count": 2,
     "metadata": {},
     "output_type": "execute_result"
    }
   ],
   "source": [
    "# import data\n",
    "df_speech = pd.read_excel(\"output/obama_speeches_dataframe.xlsx\", index_col = 0)\n",
    "df_speech.head()"
   ]
  },
  {
   "cell_type": "code",
   "execution_count": 3,
   "id": "487aa9ce",
   "metadata": {},
   "outputs": [],
   "source": [
    "# remove the redundant strings in dataframe\n",
    "df_speech.iloc[0,2] = df_speech.iloc[0,2][df_speech.iloc[0,2].find(\"My fellow citizens:\")\n",
    "                                          +len(\"My fellow citizens:\"):df_speech.iloc[0,2].find(\"(Drudge Report)\")]\n",
    "df_speech.iloc[1,2] = df_speech.iloc[1,2][df_speech.iloc[1,2].find(\"[as prepared for delivery]\") + \n",
    "                                               len(\"[as prepared for delivery]\"):]\n",
    "df_speech.iloc[1,1] = df_speech.iloc[1,1][df_speech.iloc[1,1].find(\">American Rhetoric: Barack Obama:\")\n",
    "                                         +len(\">American Rhetoric: Barack Obama:\"):df_speech.iloc[1,1].find(\n",
    "                                         \"(01-24-0\")].strip()"
   ]
  },
  {
   "cell_type": "markdown",
   "id": "c6c6ceda",
   "metadata": {},
   "source": [
    "# Clean data"
   ]
  },
  {
   "cell_type": "code",
   "execution_count": 4,
   "id": "fdd4261c",
   "metadata": {
    "scrolled": true
   },
   "outputs": [
    {
     "data": {
      "text/html": [
       "<div>\n",
       "<style scoped>\n",
       "    .dataframe tbody tr th:only-of-type {\n",
       "        vertical-align: middle;\n",
       "    }\n",
       "\n",
       "    .dataframe tbody tr th {\n",
       "        vertical-align: top;\n",
       "    }\n",
       "\n",
       "    .dataframe thead th {\n",
       "        text-align: right;\n",
       "    }\n",
       "</style>\n",
       "<table border=\"1\" class=\"dataframe\">\n",
       "  <thead>\n",
       "    <tr style=\"text-align: right;\">\n",
       "      <th></th>\n",
       "      <th>date</th>\n",
       "      <th>title</th>\n",
       "      <th>content</th>\n",
       "      <th>content_clean</th>\n",
       "    </tr>\n",
       "  </thead>\n",
       "  <tbody>\n",
       "    <tr>\n",
       "      <th>0</th>\n",
       "      <td>20 Jan 2009</td>\n",
       "      <td>First Presidential Inaugural Addre</td>\n",
       "      <td>I stand here today humbled \\r\\n\\t\\tby the task...</td>\n",
       "      <td>stand today humble task u grateful trust besto...</td>\n",
       "    </tr>\n",
       "    <tr>\n",
       "      <th>1</th>\n",
       "      <td>24 Jan 2009</td>\n",
       "      <td>First Presidential Weekly Address</td>\n",
       "      <td>We begin this year and this \\r\\n\\t\\tAdministra...</td>\n",
       "      <td>begin year administration midst unprecedented ...</td>\n",
       "    </tr>\n",
       "    <tr>\n",
       "      <th>2</th>\n",
       "      <td>26 Jan 2009</td>\n",
       "      <td>Al-Arabiya Television Intervi</td>\n",
       "      <td>- Al-Arabiya Television InterviewBarackObamaAl...</td>\n",
       "      <td>television television interview hisham melhemd...</td>\n",
       "    </tr>\n",
       "    <tr>\n",
       "      <th>3</th>\n",
       "      <td>04 Feb 2009</td>\n",
       "      <td>Remarks on Executive Compensati</td>\n",
       "      <td>- Remarks on Executive CompensationBarackObama...</td>\n",
       "      <td>remark executive compensationbarackobamaremark...</td>\n",
       "    </tr>\n",
       "    <tr>\n",
       "      <th>4</th>\n",
       "      <td>09 Feb 2009</td>\n",
       "      <td>First Presidential Prime Time Press \\r\\nConferen</td>\n",
       "      <td>Good \\r\\n\\t\\tevening, everybody. Please be sea...</td>\n",
       "      <td>good even everybody please take question tonig...</td>\n",
       "    </tr>\n",
       "  </tbody>\n",
       "</table>\n",
       "</div>"
      ],
      "text/plain": [
       "          date                                             title  \\\n",
       "0  20 Jan 2009                First Presidential Inaugural Addre   \n",
       "1  24 Jan 2009                 First Presidential Weekly Address   \n",
       "2  26 Jan 2009                     Al-Arabiya Television Intervi   \n",
       "3  04 Feb 2009                   Remarks on Executive Compensati   \n",
       "4  09 Feb 2009  First Presidential Prime Time Press \\r\\nConferen   \n",
       "\n",
       "                                             content  \\\n",
       "0  I stand here today humbled \\r\\n\\t\\tby the task...   \n",
       "1  We begin this year and this \\r\\n\\t\\tAdministra...   \n",
       "2  - Al-Arabiya Television InterviewBarackObamaAl...   \n",
       "3  - Remarks on Executive CompensationBarackObama...   \n",
       "4  Good \\r\\n\\t\\tevening, everybody. Please be sea...   \n",
       "\n",
       "                                       content_clean  \n",
       "0  stand today humble task u grateful trust besto...  \n",
       "1  begin year administration midst unprecedented ...  \n",
       "2  television television interview hisham melhemd...  \n",
       "3  remark executive compensationbarackobamaremark...  \n",
       "4  good even everybody please take question tonig...  "
      ]
     },
     "execution_count": 4,
     "metadata": {},
     "output_type": "execute_result"
    }
   ],
   "source": [
    "# Extract the tokens from string of characters  \n",
    "# Remove the punctuations\n",
    "# Lower the tokens\n",
    "# Remove stopword\n",
    "# Lemmatize  \n",
    "# above all finished using the class clean\n",
    "\n",
    "clean_content = [data_processing_oop.clean.clean_text(i) for i in df_speech[\"content\"].values.tolist() ]\n",
    "df_speech[\"content_clean\"] = clean_content\n",
    "df_speech.head()"
   ]
  },
  {
   "cell_type": "code",
   "execution_count": 5,
   "id": "50b726d2",
   "metadata": {
    "scrolled": true
   },
   "outputs": [
    {
     "data": {
      "text/html": [
       "<div>\n",
       "<style scoped>\n",
       "    .dataframe tbody tr th:only-of-type {\n",
       "        vertical-align: middle;\n",
       "    }\n",
       "\n",
       "    .dataframe tbody tr th {\n",
       "        vertical-align: top;\n",
       "    }\n",
       "\n",
       "    .dataframe thead th {\n",
       "        text-align: right;\n",
       "    }\n",
       "</style>\n",
       "<table border=\"1\" class=\"dataframe\">\n",
       "  <thead>\n",
       "    <tr style=\"text-align: right;\">\n",
       "      <th></th>\n",
       "      <th>date</th>\n",
       "      <th>title</th>\n",
       "      <th>content</th>\n",
       "      <th>content_clean</th>\n",
       "      <th>content_nouns</th>\n",
       "    </tr>\n",
       "  </thead>\n",
       "  <tbody>\n",
       "    <tr>\n",
       "      <th>0</th>\n",
       "      <td>20 Jan 2009</td>\n",
       "      <td>First Presidential Inaugural Addre</td>\n",
       "      <td>I stand here today humbled \\r\\n\\t\\tby the task...</td>\n",
       "      <td>stand today humble task u grateful trust besto...</td>\n",
       "      <td>stand today task u trust bestow sacrifice bear...</td>\n",
       "    </tr>\n",
       "    <tr>\n",
       "      <th>1</th>\n",
       "      <td>24 Jan 2009</td>\n",
       "      <td>First Presidential Weekly Address</td>\n",
       "      <td>We begin this year and this \\r\\n\\t\\tAdministra...</td>\n",
       "      <td>begin year administration midst unprecedented ...</td>\n",
       "      <td>year administration midst crisis call action w...</td>\n",
       "    </tr>\n",
       "    <tr>\n",
       "      <th>2</th>\n",
       "      <td>26 Jan 2009</td>\n",
       "      <td>Al-Arabiya Television Intervi</td>\n",
       "      <td>- Al-Arabiya Television InterviewBarackObamaAl...</td>\n",
       "      <td>television television interview hisham melhemd...</td>\n",
       "      <td>television television interview hisham house w...</td>\n",
       "    </tr>\n",
       "    <tr>\n",
       "      <th>3</th>\n",
       "      <td>04 Feb 2009</td>\n",
       "      <td>Remarks on Executive Compensati</td>\n",
       "      <td>- Remarks on Executive CompensationBarackObama...</td>\n",
       "      <td>remark executive compensationbarackobamaremark...</td>\n",
       "      <td>remark executive compensationbarackobamaremark...</td>\n",
       "    </tr>\n",
       "    <tr>\n",
       "      <th>4</th>\n",
       "      <td>09 Feb 2009</td>\n",
       "      <td>First Presidential Prime Time Press \\r\\nConferen</td>\n",
       "      <td>Good \\r\\n\\t\\tevening, everybody. Please be sea...</td>\n",
       "      <td>good even everybody please take question tonig...</td>\n",
       "      <td>question tonight speak briefly state economy n...</td>\n",
       "    </tr>\n",
       "  </tbody>\n",
       "</table>\n",
       "</div>"
      ],
      "text/plain": [
       "          date                                             title  \\\n",
       "0  20 Jan 2009                First Presidential Inaugural Addre   \n",
       "1  24 Jan 2009                 First Presidential Weekly Address   \n",
       "2  26 Jan 2009                     Al-Arabiya Television Intervi   \n",
       "3  04 Feb 2009                   Remarks on Executive Compensati   \n",
       "4  09 Feb 2009  First Presidential Prime Time Press \\r\\nConferen   \n",
       "\n",
       "                                             content  \\\n",
       "0  I stand here today humbled \\r\\n\\t\\tby the task...   \n",
       "1  We begin this year and this \\r\\n\\t\\tAdministra...   \n",
       "2  - Al-Arabiya Television InterviewBarackObamaAl...   \n",
       "3  - Remarks on Executive CompensationBarackObama...   \n",
       "4  Good \\r\\n\\t\\tevening, everybody. Please be sea...   \n",
       "\n",
       "                                       content_clean  \\\n",
       "0  stand today humble task u grateful trust besto...   \n",
       "1  begin year administration midst unprecedented ...   \n",
       "2  television television interview hisham melhemd...   \n",
       "3  remark executive compensationbarackobamaremark...   \n",
       "4  good even everybody please take question tonig...   \n",
       "\n",
       "                                       content_nouns  \n",
       "0  stand today task u trust bestow sacrifice bear...  \n",
       "1  year administration midst crisis call action w...  \n",
       "2  television television interview hisham house w...  \n",
       "3  remark executive compensationbarackobamaremark...  \n",
       "4  question tonight speak briefly state economy n...  "
      ]
     },
     "execution_count": 5,
     "metadata": {},
     "output_type": "execute_result"
    }
   ],
   "source": [
    "# Extract nouns from speeches\n",
    "nouns = [data_processing_oop.clean.nouns_extract(x) for x in clean_content]\n",
    "df_speech[\"content_nouns\"] = nouns\n",
    "df_speech.head()"
   ]
  },
  {
   "cell_type": "markdown",
   "id": "b951eb76",
   "metadata": {},
   "source": [
    "# Save data"
   ]
  },
  {
   "cell_type": "code",
   "execution_count": 6,
   "id": "37d786a8",
   "metadata": {},
   "outputs": [],
   "source": [
    "content_nouns = df_speech['content_nouns']"
   ]
  },
  {
   "cell_type": "code",
   "execution_count": 7,
   "id": "70cf8cf3",
   "metadata": {},
   "outputs": [],
   "source": [
    "# save cleaned nouns data as txt file\n",
    "with open(\"output/cleaned_nouns.txt\", \"w\",encoding=\"utf-8\") as file:\n",
    "    for text in content_nouns:\n",
    "        file.write(\"%s\\n\" % text) # add line break after each speech to keep speeches separate\n",
    "    file.close()"
   ]
  },
  {
   "cell_type": "code",
   "execution_count": 8,
   "id": "ff018b1a",
   "metadata": {},
   "outputs": [],
   "source": [
    "content_clean = df_speech['content_clean']"
   ]
  },
  {
   "cell_type": "code",
   "execution_count": 9,
   "id": "ba61a2af",
   "metadata": {},
   "outputs": [],
   "source": [
    "# save cleaned data as txt file\n",
    "with open(\"output/cleaned_speeches.txt\", \"w\",encoding=\"utf-8\") as file:\n",
    "    for text in content_clean:\n",
    "        file.write(\"%s\\n\" % text) # add line break after each speech to keep speeches separate\n",
    "    file.close()"
   ]
  },
  {
   "cell_type": "code",
   "execution_count": 10,
   "id": "82d71fbd",
   "metadata": {},
   "outputs": [],
   "source": [
    "# write data frame to excel file\n",
    "df_speech.to_excel(\"output/obama_speeches_clean.xlsx\")"
   ]
  }
 ],
 "metadata": {
  "kernelspec": {
   "display_name": "Python 3 (ipykernel)",
   "language": "python",
   "name": "python3"
  },
  "language_info": {
   "codemirror_mode": {
    "name": "ipython",
    "version": 3
   },
   "file_extension": ".py",
   "mimetype": "text/x-python",
   "name": "python",
   "nbconvert_exporter": "python",
   "pygments_lexer": "ipython3",
   "version": "3.9.10"
  }
 },
 "nbformat": 4,
 "nbformat_minor": 5
}
